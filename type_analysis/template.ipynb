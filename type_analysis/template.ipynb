{
 "cells": [
  {
   "cell_type": "markdown",
   "metadata": {},
   "source": [
    "# [Data Source]"
   ]
  },
  {
   "cell_type": "code",
   "execution_count": null,
   "metadata": {},
   "outputs": [],
   "source": [
    "import pandas as pd\n",
    "\n",
    "from visions.core.functional import type_inference_report_frame, compare_detect_inference_frame\n",
    "from visions.core.implementations import visions_standard_set\n",
    "from visions.core.implementations.types import *\n",
    "from visions.core.model.type import evolve_relation\n",
    "pd.options.display.max_columns = None\n",
    "pd.options.display.max_rows = None"
   ]
  },
  {
   "cell_type": "markdown",
   "metadata": {},
   "source": [
    "## [Dataset 1]"
   ]
  },
  {
   "cell_type": "code",
   "execution_count": null,
   "metadata": {},
   "outputs": [],
   "source": [
    "df = pd.read_csv('...')\n",
    "df.sample(10)"
   ]
  },
  {
   "cell_type": "code",
   "execution_count": null,
   "metadata": {},
   "outputs": [],
   "source": [
    "df.dtypes"
   ]
  },
  {
   "cell_type": "markdown",
   "metadata": {},
   "source": [
    "Type problems:\n",
    "\n",
    "* (1) ...\n",
    "* (2) ...\n",
    "* (3) ..."
   ]
  },
  {
   "cell_type": "code",
   "execution_count": null,
   "metadata": {},
   "outputs": [],
   "source": [
    "typeset = visions_standard_set()\n",
    "\n",
    "report = type_inference_report_frame(df, typeset)\n",
    "print(report)"
   ]
  },
  {
   "cell_type": "markdown",
   "metadata": {},
   "source": [
    "Mitigate the type problems:\n",
    "\n",
    "* (1) is resolved by the standard type set\n",
    "* (2) needs the `visions_ordinal` type\n",
    "* (3) can be resolved by evolving the `visions_datetime` type with an extra relation"
   ]
  },
  {
   "cell_type": "code",
   "execution_count": null,
   "metadata": {},
   "outputs": [],
   "source": [
    "from visions.lib.relations.string_to_ordinal import string_to_ordinal\n",
    "from visions.lib.relations.string_to_bool import get_boolean_coercions\n",
    "from visions.lib.relations.integer_to_datetime import integer_to_datetime_year_month_day\n",
    "\n",
    "\n",
    "typeset = visions_standard_set()\n",
    "\n",
    "# (1)\n",
    "typeset += visions_count\n",
    "typeset += visions_url\n",
    "\n",
    "# (2)\n",
    "typeset = typeset.replace(\n",
    "    visions_bool, \n",
    "    visions_bool.make_string_coercion('nl', get_boolean_coercions('nl'))\n",
    ")\n",
    "\n",
    "# (3)\n",
    "typeset = typeset.replace(\n",
    "    visions_datetime,\n",
    "    evolve_relation(visions_datetime, 'str_yyyymmdd', integer_to_datetime_year_month_day)\n",
    ")\n",
    "\n",
    "# (4)\n",
    "typeset += evolve_relation(visions_ordinal, 'str_alpha', string_to_ordinal)\n",
    "\n",
    "report = type_inference_report_frame(df, typeset)\n",
    "print(report)"
   ]
  }
 ],
 "metadata": {
  "kernelspec": {
   "display_name": "Python 3",
   "language": "python",
   "name": "python3"
  },
  "language_info": {
   "codemirror_mode": {
    "name": "ipython",
    "version": 3
   },
   "file_extension": ".py",
   "mimetype": "text/x-python",
   "name": "python",
   "nbconvert_exporter": "python",
   "pygments_lexer": "ipython3",
   "version": "3.7.6"
  }
 },
 "nbformat": 4,
 "nbformat_minor": 2
}
