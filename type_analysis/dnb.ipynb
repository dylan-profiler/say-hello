{
 "cells": [
  {
   "cell_type": "markdown",
   "metadata": {
    "collapsed": true
   },
   "source": [
    "# DNB"
   ]
  },
  {
   "cell_type": "code",
   "execution_count": 6,
   "metadata": {},
   "outputs": [],
   "source": [
    "import pandas as pd\n",
    "import json\n",
    "from pathlib import Path\n",
    "\n",
    "from visions.core.functional import type_inference_report_frame, compare_detect_inference_frame\n",
    "from visions.core.implementations import visions_standard_set\n",
    "from visions.core.implementations.types import *\n",
    "from visions.core.model.type import evolve_relation\n",
    "pd.options.display.max_columns = None\n",
    "pd.options.display.max_rows = None"
   ]
  },
  {
   "cell_type": "markdown",
   "metadata": {},
   "source": [
    "## Interest Rates ECB"
   ]
  },
  {
   "cell_type": "code",
   "execution_count": 11,
   "metadata": {},
   "outputs": [
    {
     "data": {
      "text/html": [
       "<div>\n",
       "<style scoped>\n",
       "    .dataframe tbody tr th:only-of-type {\n",
       "        vertical-align: middle;\n",
       "    }\n",
       "\n",
       "    .dataframe tbody tr th {\n",
       "        vertical-align: top;\n",
       "    }\n",
       "\n",
       "    .dataframe thead th {\n",
       "        text-align: right;\n",
       "    }\n",
       "</style>\n",
       "<table border=\"1\" class=\"dataframe\">\n",
       "  <thead>\n",
       "    <tr style=\"text-align: right;\">\n",
       "      <th></th>\n",
       "      <th>Soort rente</th>\n",
       "      <th>Periode</th>\n",
       "      <th>waarde</th>\n",
       "    </tr>\n",
       "  </thead>\n",
       "  <tbody>\n",
       "    <tr>\n",
       "      <th>482</th>\n",
       "      <td>Variabele rentetenders; minimale inschrijvings...</td>\n",
       "      <td>2008-05-14</td>\n",
       "      <td>4.00</td>\n",
       "    </tr>\n",
       "    <tr>\n",
       "      <th>769</th>\n",
       "      <td>Variabele rentetenders; marginale rentevoet</td>\n",
       "      <td>2005-07-27</td>\n",
       "      <td>2.05</td>\n",
       "    </tr>\n",
       "    <tr>\n",
       "      <th>210</th>\n",
       "      <td>Variabele rentetenders; minimale inschrijvings...</td>\n",
       "      <td>2003-02-19</td>\n",
       "      <td>2.75</td>\n",
       "    </tr>\n",
       "    <tr>\n",
       "      <th>1371</th>\n",
       "      <td>Marginale beleningsrente</td>\n",
       "      <td>1999-04-09</td>\n",
       "      <td>3.50</td>\n",
       "    </tr>\n",
       "    <tr>\n",
       "      <th>720</th>\n",
       "      <td>Variabele rentetenders; marginale rentevoet</td>\n",
       "      <td>2004-08-18</td>\n",
       "      <td>2.01</td>\n",
       "    </tr>\n",
       "    <tr>\n",
       "      <th>60</th>\n",
       "      <td>Vaste rentetenders</td>\n",
       "      <td>2011-04-13</td>\n",
       "      <td>1.25</td>\n",
       "    </tr>\n",
       "    <tr>\n",
       "      <th>689</th>\n",
       "      <td>Variabele rentetenders; marginale rentevoet</td>\n",
       "      <td>2004-01-14</td>\n",
       "      <td>2.00</td>\n",
       "    </tr>\n",
       "    <tr>\n",
       "      <th>343</th>\n",
       "      <td>Variabele rentetenders; minimale inschrijvings...</td>\n",
       "      <td>2005-09-07</td>\n",
       "      <td>2.00</td>\n",
       "    </tr>\n",
       "    <tr>\n",
       "      <th>1125</th>\n",
       "      <td>Variabele rentetenders; gewogen gemiddelde ren...</td>\n",
       "      <td>2004-02-11</td>\n",
       "      <td>2.01</td>\n",
       "    </tr>\n",
       "    <tr>\n",
       "      <th>910</th>\n",
       "      <td>Variabele rentetenders; marginale rentevoet</td>\n",
       "      <td>2008-04-16</td>\n",
       "      <td>4.21</td>\n",
       "    </tr>\n",
       "  </tbody>\n",
       "</table>\n",
       "</div>"
      ],
      "text/plain": [
       "                                            Soort rente    Periode   waarde\n",
       "482   Variabele rentetenders; minimale inschrijvings...  2008-05-14    4.00\n",
       "769        Variabele rentetenders; marginale rentevoet   2005-07-27    2.05\n",
       "210   Variabele rentetenders; minimale inschrijvings...  2003-02-19    2.75\n",
       "1371                          Marginale beleningsrente   1999-04-09    3.50\n",
       "720        Variabele rentetenders; marginale rentevoet   2004-08-18    2.01\n",
       "60                                  Vaste rentetenders   2011-04-13    1.25\n",
       "689        Variabele rentetenders; marginale rentevoet   2004-01-14    2.00\n",
       "343   Variabele rentetenders; minimale inschrijvings...  2005-09-07    2.00\n",
       "1125  Variabele rentetenders; gewogen gemiddelde ren...  2004-02-11    2.01\n",
       "910        Variabele rentetenders; marginale rentevoet   2008-04-16    4.21"
      ]
     },
     "execution_count": 11,
     "metadata": {},
     "output_type": "execute_result"
    }
   ],
   "source": [
    "df = pd.read_csv('../data/dnb/rentetarieven_ecb.csv', sep=',')\n",
    "df.sample(10)"
   ]
  },
  {
   "cell_type": "code",
   "execution_count": 4,
   "metadata": {},
   "outputs": [
    {
     "data": {
      "text/plain": [
       "Soort rente     object\n",
       "Periode         object\n",
       "waarde         float64\n",
       "dtype: object"
      ]
     },
     "execution_count": 4,
     "metadata": {},
     "output_type": "execute_result"
    }
   ],
   "source": [
    "df.dtypes"
   ]
  },
  {
   "cell_type": "markdown",
   "metadata": {},
   "source": [
    "The default typeset recognizes the types as expected:"
   ]
  },
  {
   "cell_type": "code",
   "execution_count": 5,
   "metadata": {},
   "outputs": [
    {
     "name": "stdout",
     "output_type": "stream",
     "text": [
      "Periode          visions_string                 != visions_datetime               \n",
      "Soort rente      visions_string                 == visions_string                 \n",
      "waarde           visions_float                  == visions_float                  \n",
      "In total 1 out of 3 types were changed.\n",
      "\n"
     ]
    }
   ],
   "source": [
    "typeset = visions_standard_set()\n",
    "\n",
    "report = type_inference_report_frame(df, typeset)\n",
    "print(report)"
   ]
  },
  {
   "cell_type": "markdown",
   "metadata": {},
   "source": [
    "## Pension funds payments"
   ]
  },
  {
   "cell_type": "code",
   "execution_count": 8,
   "metadata": {},
   "outputs": [
    {
     "data": {
      "text/html": [
       "<div>\n",
       "<style scoped>\n",
       "    .dataframe tbody tr th:only-of-type {\n",
       "        vertical-align: middle;\n",
       "    }\n",
       "\n",
       "    .dataframe tbody tr th {\n",
       "        vertical-align: top;\n",
       "    }\n",
       "\n",
       "    .dataframe thead th {\n",
       "        text-align: right;\n",
       "    }\n",
       "</style>\n",
       "<table border=\"1\" class=\"dataframe\">\n",
       "  <thead>\n",
       "    <tr style=\"text-align: right;\">\n",
       "      <th></th>\n",
       "      <th>Soort pensioenfonds</th>\n",
       "      <th>Type overeenkomst</th>\n",
       "      <th>Uitsplitsing pensioenovereenkomst</th>\n",
       "      <th>Periode</th>\n",
       "      <th>waarde</th>\n",
       "    </tr>\n",
       "  </thead>\n",
       "  <tbody>\n",
       "    <tr>\n",
       "      <th>337</th>\n",
       "      <td>Overig pensioenfonds</td>\n",
       "      <td>Totale overeenkomsten</td>\n",
       "      <td>Totaal</td>\n",
       "      <td>1293840000000</td>\n",
       "      <td>573</td>\n",
       "    </tr>\n",
       "    <tr>\n",
       "      <th>12</th>\n",
       "      <td>Totaal pensioenfonds</td>\n",
       "      <td>Uitkeringsovereenkomst</td>\n",
       "      <td>Middelloon</td>\n",
       "      <td>1167609600000</td>\n",
       "      <td>15766</td>\n",
       "    </tr>\n",
       "    <tr>\n",
       "      <th>315</th>\n",
       "      <td>Overig pensioenfonds</td>\n",
       "      <td>Premieovereenkomst</td>\n",
       "      <td>Totaal</td>\n",
       "      <td>1262304000000</td>\n",
       "      <td>139</td>\n",
       "    </tr>\n",
       "    <tr>\n",
       "      <th>200</th>\n",
       "      <td>Ondernemingspensioenfonds</td>\n",
       "      <td>Overige overeenkomsten</td>\n",
       "      <td>Totaal</td>\n",
       "      <td>1167609600000</td>\n",
       "      <td>34</td>\n",
       "    </tr>\n",
       "    <tr>\n",
       "      <th>145</th>\n",
       "      <td>Ondernemingspensioenfonds</td>\n",
       "      <td>Uitkeringsovereenkomst</td>\n",
       "      <td>Vaste bedragen</td>\n",
       "      <td>1199145600000</td>\n",
       "      <td>0</td>\n",
       "    </tr>\n",
       "    <tr>\n",
       "      <th>329</th>\n",
       "      <td>Overig pensioenfonds</td>\n",
       "      <td>Combinatie van overeenkomsten</td>\n",
       "      <td>Totaal</td>\n",
       "      <td>1420070400000</td>\n",
       "      <td>15</td>\n",
       "    </tr>\n",
       "    <tr>\n",
       "      <th>281</th>\n",
       "      <td>Bedrijfstakpensioenfonds</td>\n",
       "      <td>Totale overeenkomsten</td>\n",
       "      <td>Totaal</td>\n",
       "      <td>1483228800000</td>\n",
       "      <td>20956</td>\n",
       "    </tr>\n",
       "    <tr>\n",
       "      <th>40</th>\n",
       "      <td>Totaal pensioenfonds</td>\n",
       "      <td>Uitkeringsovereenkomst</td>\n",
       "      <td>Vaste bedragen</td>\n",
       "      <td>1293840000000</td>\n",
       "      <td>0</td>\n",
       "    </tr>\n",
       "    <tr>\n",
       "      <th>289</th>\n",
       "      <td>Overig pensioenfonds</td>\n",
       "      <td>Uitkeringsovereenkomst</td>\n",
       "      <td>Middelloon</td>\n",
       "      <td>1199145600000</td>\n",
       "      <td>15</td>\n",
       "    </tr>\n",
       "    <tr>\n",
       "      <th>68</th>\n",
       "      <td>Totaal pensioenfonds</td>\n",
       "      <td>Premieovereenkomst</td>\n",
       "      <td>Totaal</td>\n",
       "      <td>1420070400000</td>\n",
       "      <td>243</td>\n",
       "    </tr>\n",
       "  </tbody>\n",
       "</table>\n",
       "</div>"
      ],
      "text/plain": [
       "            Soort pensioenfonds               Type overeenkomst  \\\n",
       "337       Overig pensioenfonds           Totale overeenkomsten    \n",
       "12        Totaal pensioenfonds          Uitkeringsovereenkomst    \n",
       "315       Overig pensioenfonds              Premieovereenkomst    \n",
       "200  Ondernemingspensioenfonds          Overige overeenkomsten    \n",
       "145  Ondernemingspensioenfonds          Uitkeringsovereenkomst    \n",
       "329       Overig pensioenfonds   Combinatie van overeenkomsten    \n",
       "281   Bedrijfstakpensioenfonds           Totale overeenkomsten    \n",
       "40        Totaal pensioenfonds          Uitkeringsovereenkomst    \n",
       "289       Overig pensioenfonds          Uitkeringsovereenkomst    \n",
       "68        Totaal pensioenfonds              Premieovereenkomst    \n",
       "\n",
       "    Uitsplitsing pensioenovereenkomst       Periode   waarde  \n",
       "337                           Totaal   1293840000000     573  \n",
       "12                        Middelloon   1167609600000   15766  \n",
       "315                           Totaal   1262304000000     139  \n",
       "200                           Totaal   1167609600000      34  \n",
       "145                   Vaste bedragen   1199145600000       0  \n",
       "329                           Totaal   1420070400000      15  \n",
       "281                           Totaal   1483228800000   20956  \n",
       "40                    Vaste bedragen   1293840000000       0  \n",
       "289                       Middelloon   1199145600000      15  \n",
       "68                            Totaal   1420070400000     243  "
      ]
     },
     "execution_count": 8,
     "metadata": {},
     "output_type": "execute_result"
    }
   ],
   "source": [
    "file_path = Path(\"../data/dnb/pensioenfondsen_uitkeringen.json\")\n",
    "with file_path.open('r', encoding='utf-8-sig') as f:\n",
    "    data = json.load(f)\n",
    "        \n",
    "df = pd.DataFrame(data['data'], columns=data['labels'])\n",
    "df.sample(10)"
   ]
  },
  {
   "cell_type": "code",
   "execution_count": 9,
   "metadata": {},
   "outputs": [
    {
     "data": {
      "text/plain": [
       "Soort pensioenfonds                  object\n",
       "Type overeenkomst                    object\n",
       "Uitsplitsing pensioenovereenkomst    object\n",
       "Periode                               int64\n",
       "waarde                                int64\n",
       "dtype: object"
      ]
     },
     "execution_count": 9,
     "metadata": {},
     "output_type": "execute_result"
    }
   ],
   "source": [
    "df.dtypes"
   ]
  },
  {
   "cell_type": "code",
   "execution_count": 10,
   "metadata": {},
   "outputs": [
    {
     "name": "stdout",
     "output_type": "stream",
     "text": [
      "waarde                                 visions_integer                == visions_integer                \n",
      "Uitsplitsing pensioenovereenkomst      visions_string                 == visions_string                 \n",
      "Periode                                visions_integer                == visions_integer                \n",
      "Type overeenkomst                      visions_string                 == visions_string                 \n",
      "Soort pensioenfonds                    visions_string                 == visions_string                 \n",
      "In total 0 out of 5 types were changed.\n",
      "\n"
     ]
    }
   ],
   "source": [
    "typeset = visions_standard_set()\n",
    "\n",
    "report = type_inference_report_frame(df, typeset)\n",
    "print(report)"
   ]
  }
 ],
 "metadata": {
  "kernelspec": {
   "display_name": "Python 3",
   "language": "python",
   "name": "python3"
  },
  "language_info": {
   "codemirror_mode": {
    "name": "ipython",
    "version": 3
   },
   "file_extension": ".py",
   "mimetype": "text/x-python",
   "name": "python",
   "nbconvert_exporter": "python",
   "pygments_lexer": "ipython3",
   "version": "3.7.6"
  }
 },
 "nbformat": 4,
 "nbformat_minor": 1
}
